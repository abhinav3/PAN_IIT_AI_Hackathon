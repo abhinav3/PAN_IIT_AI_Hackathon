{
 "cells": [
  {
   "cell_type": "code",
   "execution_count": 67,
   "metadata": {},
   "outputs": [],
   "source": [
    "import warnings\n",
    "warnings.filterwarnings('ignore')"
   ]
  },
  {
   "cell_type": "markdown",
   "metadata": {},
   "source": [
    "# loading libraries"
   ]
  },
  {
   "cell_type": "code",
   "execution_count": 68,
   "metadata": {},
   "outputs": [],
   "source": [
    "import pandas as pd\n",
    "import random\n",
    "from PIL import Image\n",
    "import numpy as np\n",
    "from tqdm import tqdm\n",
    "from matplotlib import pyplot as plt\n",
    "# import seaborn as sns\n",
    "%matplotlib inline\n",
    "pd.options.display.max_colwidth = 1000"
   ]
  },
  {
   "cell_type": "markdown",
   "metadata": {},
   "source": [
    "# reading image labels file"
   ]
  },
  {
   "cell_type": "code",
   "execution_count": 75,
   "metadata": {},
   "outputs": [
    {
     "name": "stdout",
     "output_type": "stream",
     "text": [
      "Total Images 5000\n"
     ]
    }
   ],
   "source": [
    "data = pd.read_csv('../data/solution.csv')\n",
    "data.columns =  ['image_path', 'label']\n",
    "data.label = data.label -1\n",
    "new_str = '../data/train_images/'\n",
    "data.image_path = [new_str + str(x) + '.png' for x in data.image_path]\n",
    "\n",
    "unique_classes = data['label'].unique().tolist()\n",
    "\n",
    "label_count = pd.DataFrame(data['label'].value_counts()).reset_index()\n",
    "print ('Total Images {}'.format(label_count.label.sum()))"
   ]
  },
  {
   "cell_type": "code",
   "execution_count": 76,
   "metadata": {},
   "outputs": [
    {
     "data": {
      "text/plain": [
       "(3    692.0\n",
       " 4    677.6\n",
       " 5    674.4\n",
       " 0    668.8\n",
       " 2    664.8\n",
       " 1    622.4\n",
       " Name: label, dtype: float64, 5000)"
      ]
     },
     "execution_count": 76,
     "metadata": {},
     "output_type": "execute_result"
    }
   ],
   "source": [
    "data.label.value_counts() * 0.8, len(data)"
   ]
  },
  {
   "cell_type": "markdown",
   "metadata": {},
   "source": [
    "# check if an image is invalid"
   ]
  },
  {
   "cell_type": "code",
   "execution_count": 24,
   "metadata": {},
   "outputs": [
    {
     "name": "stderr",
     "output_type": "stream",
     "text": [
      "100%|██████████| 5000/5000 [00:00<00:00, 11655.21it/s]\n"
     ]
    }
   ],
   "source": [
    "import os\n",
    "from PIL import Image\n",
    "total_count = 0\n",
    "deleted_styles = []\n",
    "valid_styles = []\n",
    "for path_to_image in tqdm(data.image_path):\n",
    "    total_count += 1    \n",
    "    try:\n",
    "        Image.open(path_to_image)\n",
    "        valid_styles.append(path_to_image)\n",
    "    except Exception as e:\n",
    "        print(\"deleting image :\" + str(path_to_image))\n",
    "        deleted_styles.append(path_to_image)"
   ]
  },
  {
   "cell_type": "code",
   "execution_count": 26,
   "metadata": {},
   "outputs": [
    {
     "name": "stdout",
     "output_type": "stream",
     "text": [
      "total images :  5000\n",
      "total deleted images :  0\n",
      "total valid images :  5000\n"
     ]
    }
   ],
   "source": [
    "print (\"total images : \" ,  len(data))\n",
    "print (\"total deleted images : \" ,   len(deleted_styles) )\n",
    "print (\"total valid images : \" ,   len(valid_styles) )"
   ]
  },
  {
   "cell_type": "markdown",
   "metadata": {},
   "source": [
    "# stratified train-test split"
   ]
  },
  {
   "cell_type": "code",
   "execution_count": 52,
   "metadata": {},
   "outputs": [
    {
     "name": "stdout",
     "output_type": "stream",
     "text": [
      "train shape (3997, 2)\n",
      "valid shape (1003, 2)\n",
      "total shape (5000, 2)\n"
     ]
    }
   ],
   "source": [
    "df_valid = pd.DataFrame()\n",
    "df_train = pd.DataFrame()\n",
    "split = 0.8\n",
    "for cl in unique_classes:\n",
    "    temp = data[data.label == cl ]\n",
    "    np.random.seed(0)\n",
    "    temp.reset_index(drop = True, inplace = True)\n",
    "    train_rows = np.random.choice(temp.index, int(len(temp)* split), replace=False)\n",
    "    test_rows = [x for x in temp.index if x not in train_rows]\n",
    "    temp_train = temp.loc[train_rows]\n",
    "    temp_valid = temp.loc[test_rows]\n",
    "    df_valid = df_valid.append(temp_valid)\n",
    "    df_train = df_train.append(temp_train)\n",
    "    \n",
    "print ('train shape {}'.format(df_train.shape))\n",
    "print ('valid shape {}'.format(df_valid.shape))\n",
    "print ('total shape {}'.format(data.shape))\n",
    "\n",
    "df_train = df_train.sample(frac=1).reset_index(drop=True)\n",
    "df_valid = df_valid.sample(frac=1).reset_index(drop=True)\n",
    "df_train.to_csv('../data/train.txt', sep=' ', index = False, header=False)\n",
    "df_valid.to_csv('../data/valid.txt', sep=' ', index = False, header=False)\n",
    "# data.to_csv('../data/all_data_5.5l.txt', sep=' ', index = False, header=False)"
   ]
  },
  {
   "cell_type": "markdown",
   "metadata": {},
   "source": [
    "# Test_df preparation"
   ]
  },
  {
   "cell_type": "code",
   "execution_count": 57,
   "metadata": {},
   "outputs": [
    {
     "name": "stdout",
     "output_type": "stream",
     "text": [
      "(40000, 2)\n"
     ]
    },
    {
     "data": {
      "text/html": [
       "<div>\n",
       "<style scoped>\n",
       "    .dataframe tbody tr th:only-of-type {\n",
       "        vertical-align: middle;\n",
       "    }\n",
       "\n",
       "    .dataframe tbody tr th {\n",
       "        vertical-align: top;\n",
       "    }\n",
       "\n",
       "    .dataframe thead th {\n",
       "        text-align: right;\n",
       "    }\n",
       "</style>\n",
       "<table border=\"1\" class=\"dataframe\">\n",
       "  <thead>\n",
       "    <tr style=\"text-align: right;\">\n",
       "      <th></th>\n",
       "      <th>id</th>\n",
       "      <th>category</th>\n",
       "    </tr>\n",
       "  </thead>\n",
       "  <tbody>\n",
       "    <tr>\n",
       "      <th>0</th>\n",
       "      <td>1</td>\n",
       "      <td>2</td>\n",
       "    </tr>\n",
       "    <tr>\n",
       "      <th>1</th>\n",
       "      <td>2</td>\n",
       "      <td>3</td>\n",
       "    </tr>\n",
       "    <tr>\n",
       "      <th>2</th>\n",
       "      <td>3</td>\n",
       "      <td>1</td>\n",
       "    </tr>\n",
       "    <tr>\n",
       "      <th>3</th>\n",
       "      <td>4</td>\n",
       "      <td>2</td>\n",
       "    </tr>\n",
       "    <tr>\n",
       "      <th>4</th>\n",
       "      <td>5</td>\n",
       "      <td>1</td>\n",
       "    </tr>\n",
       "  </tbody>\n",
       "</table>\n",
       "</div>"
      ],
      "text/plain": [
       "   id  category\n",
       "0   1         2\n",
       "1   2         3\n",
       "2   3         1\n",
       "3   4         2\n",
       "4   5         1"
      ]
     },
     "execution_count": 57,
     "metadata": {},
     "output_type": "execute_result"
    }
   ],
   "source": [
    "submission = pd.read_csv('../submissions/sample.csv')\n",
    "print (submission.shape)\n",
    "submission.head()"
   ]
  },
  {
   "cell_type": "code",
   "execution_count": 64,
   "metadata": {},
   "outputs": [
    {
     "name": "stdout",
     "output_type": "stream",
     "text": [
      "(40000, 2)\n"
     ]
    },
    {
     "data": {
      "text/html": [
       "<div>\n",
       "<style scoped>\n",
       "    .dataframe tbody tr th:only-of-type {\n",
       "        vertical-align: middle;\n",
       "    }\n",
       "\n",
       "    .dataframe tbody tr th {\n",
       "        vertical-align: top;\n",
       "    }\n",
       "\n",
       "    .dataframe thead th {\n",
       "        text-align: right;\n",
       "    }\n",
       "</style>\n",
       "<table border=\"1\" class=\"dataframe\">\n",
       "  <thead>\n",
       "    <tr style=\"text-align: right;\">\n",
       "      <th></th>\n",
       "      <th>path</th>\n",
       "      <th>label</th>\n",
       "    </tr>\n",
       "  </thead>\n",
       "  <tbody>\n",
       "    <tr>\n",
       "      <th>0</th>\n",
       "      <td>../data/test_images/1.png</td>\n",
       "      <td>0</td>\n",
       "    </tr>\n",
       "    <tr>\n",
       "      <th>1</th>\n",
       "      <td>../data/test_images/2.png</td>\n",
       "      <td>0</td>\n",
       "    </tr>\n",
       "    <tr>\n",
       "      <th>2</th>\n",
       "      <td>../data/test_images/3.png</td>\n",
       "      <td>0</td>\n",
       "    </tr>\n",
       "    <tr>\n",
       "      <th>3</th>\n",
       "      <td>../data/test_images/4.png</td>\n",
       "      <td>0</td>\n",
       "    </tr>\n",
       "    <tr>\n",
       "      <th>4</th>\n",
       "      <td>../data/test_images/5.png</td>\n",
       "      <td>0</td>\n",
       "    </tr>\n",
       "  </tbody>\n",
       "</table>\n",
       "</div>"
      ],
      "text/plain": [
       "                        path  label\n",
       "0  ../data/test_images/1.png      0\n",
       "1  ../data/test_images/2.png      0\n",
       "2  ../data/test_images/3.png      0\n",
       "3  ../data/test_images/4.png      0\n",
       "4  ../data/test_images/5.png      0"
      ]
     },
     "execution_count": 64,
     "metadata": {},
     "output_type": "execute_result"
    }
   ],
   "source": [
    "test_images_path = '../data/test_images/'\n",
    "test_df = submission.copy()\n",
    "test_df.columns = ['path', 'label']\n",
    "test_df.label = 0\n",
    "test_df.path = [test_images_path  + str(x) + '.png' for x in test_df.path]\n",
    "print (test_df.shape)\n",
    "test_df.head()"
   ]
  },
  {
   "cell_type": "code",
   "execution_count": 65,
   "metadata": {},
   "outputs": [
    {
     "data": {
      "image/png": "[encoded data removed]",
      "text/plain": [
       "<PIL.PngImagePlugin.PngImageFile image mode=RGB size=472x553 at 0x7F90656C5D68>"
      ]
     },
     "execution_count": 65,
     "metadata": {},
     "output_type": "execute_result"
    }
   ],
   "source": [
    "img = test_df.path.tolist()[75]\n",
    "Image.open(open(img, 'rb'))"
   ]
  },
  {
   "cell_type": "markdown",
   "metadata": {},
   "source": [
    "# saving test file"
   ]
  },
  {
   "cell_type": "code",
   "execution_count": 66,
   "metadata": {},
   "outputs": [],
   "source": [
    "test_df.to_csv('../data/test.txt', sep=' ', index = False, header=False)"
   ]
  }
 ],
 "metadata": {
  "kernelspec": {
   "display_name": "Python 3",
   "language": "python",
   "name": "python3"
  },
  "language_info": {
   "codemirror_mode": {
    "name": "ipython",
    "version": 3
   },
   "file_extension": ".py",
   "mimetype": "text/x-python",
   "name": "python",
   "nbconvert_exporter": "python",
   "pygments_lexer": "ipython3",
   "version": "3.6.5"
  }
 },
 "nbformat": 4,
 "nbformat_minor": 2
}
